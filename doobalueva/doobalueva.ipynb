{
  "nbformat": 4,
  "nbformat_minor": 0,
  "metadata": {
    "colab": {
      "name": "doobalueva.ipynb",
      "provenance": [],
      "collapsed_sections": [],
      "toc_visible": true
    },
    "kernelspec": {
      "display_name": "Python 3",
      "language": "python",
      "name": "python3"
    },
    "language_info": {
      "codemirror_mode": {
        "name": "ipython",
        "version": 3
      },
      "file_extension": ".py",
      "mimetype": "text/x-python",
      "name": "python",
      "nbconvert_exporter": "python",
      "pygments_lexer": "ipython3",
      "version": "3.6.8"
    }
  },
  "cells": [
    {
      "cell_type": "markdown",
      "metadata": {
        "id": "c-lgHjScvob3"
      },
      "source": [
        "### Задача\n",
        "Написать код, который сможет\n",
        "1. Получить текст последних 20 постов с стены какого-то сообщества вк\n",
        "* у каждого поста есть id, записывайте его куда-нибудь\n",
        "* сохранить текст каждого поста в текстовый документ в папке, название которой совпадает с именем сообщества\n",
        "2. После этого получить текст комментов к каждому посту\n",
        "* сохранить текст каждого коммента по пути `id_поста/id_коммента.txt`\n",
        "3. Сложить всё это в в архив и отправить вам в телеграме."
      ]
    },
    {
      "cell_type": "markdown",
      "metadata": {
        "id": "E2XEMi-VyiEb"
      },
      "source": [
        "### Решение\n",
        "\n",
        "Импортируем нужные модули и создаем переменную с токеном"
      ]
    },
    {
      "cell_type": "code",
      "metadata": {
        "id": "kUb1FHDYLFdv"
      },
      "source": [
        "import requests\n",
        "import os\n",
        "import zipfile\n",
        "\n",
        "TOKEN = \"ТУТ ДОЛЖЕН БЫТЬ ТОКЕН\""
      ],
      "execution_count": null,
      "outputs": []
    },
    {
      "cell_type": "markdown",
      "metadata": {
        "id": "V1Ni6rFlZsGi"
      },
      "source": [
        "Скачиваем модуль telegram-send и настраиваем"
      ]
    },
    {
      "cell_type": "code",
      "metadata": {
        "id": "htUBOu_VOvam"
      },
      "source": [
        "!pip install telegram-send\n",
        "!telegram-send --config channel.conf --configure-channel"
      ],
      "execution_count": null,
      "outputs": []
    },
    {
      "cell_type": "markdown",
      "metadata": {
        "id": "6hHXQGO9aEr7"
      },
      "source": [
        "Вводим короткое имя сообщества, например, sysblok:"
      ]
    },
    {
      "cell_type": "code",
      "metadata": {
        "id": "SSmwaUH3esbe",
        "outputId": "bcc17740-497c-4343-b8e1-7d34e77bc2b4",
        "colab": {
          "base_uri": "https://localhost:8080/",
          "height": 34
        }
      },
      "source": [
        "group_name=input()"
      ],
      "execution_count": null,
      "outputs": [
        {
          "output_type": "stream",
          "text": [
            "sysblok\n"
          ],
          "name": "stdout"
        }
      ]
    },
    {
      "cell_type": "markdown",
      "metadata": {
        "id": "C1lUR-7yjHby"
      },
      "source": [
        "Начинается самое интересное. "
      ]
    },
    {
      "cell_type": "code",
      "metadata": {
        "id": "3KQBHCjwLZF2"
      },
      "source": [
        "#Сначала создадим функцию для записи какого-либо текста в какой-либо текстовый файл\n",
        "def write_text(root,text): \n",
        "    text_file=open(root, 'w', encoding='utf-8')\n",
        "    text_file.write(text)\n",
        "    text_file.close()\n",
        "\n",
        "#Получаем id сообщества\n",
        "group_id = requests.get(\n",
        "    'https://api.vk.com/method/utils.resolveScreenName',\n",
        "    params={\n",
        "        \"screen_name\": group_name,\n",
        "        \"v\":\"5.92\",\n",
        "        \"access_token\": TOKEN\n",
        "    }\n",
        ").json()[\"response\"][\"object_id\"]\n",
        "\n",
        "#Создаем папочку для постов и архив, куда потом будем складывать всё-всё. \n",
        "os.makedirs('Системный Блокъ')\n",
        "zip_archive = zipfile.ZipFile('result.zip', 'w')\n",
        "\n",
        "#Получаем список постов",
        "posts = requests.get(\n",
        "    'https://api.vk.com/method/wall.get',\n",
        "    params={\n",
        "        \"domain\": group_name,\n",
        "        \"v\":\"5.94\",\n",
        "        \"count\": 20,\n",
        "        \"access_token\": TOKEN\n",
        "    }\n",
        ").json()[\"response\"]['items']\n",
        "\n",
        "\n",
        "#Начинаем получать тексты постов. Проходим по всем постам\n",
        "for post in posts:\n",
        "  #Сначала скачиваем сами тексты постов\n",
        "  write_text('Системный Блокъ/'+str(post['id'])+\".txt\",post['text'])\n",
        "\n",
        "  #Теперь занимаемся коментами\n",
        "  #Создаем объект-список коментов к посту \n",
        "  comments = requests.get(\n",
        "    'https://api.vk.com/method/wall.getComments',\n",
        "    params={\n",
        "        \"owner_id\": -group_id,\n",
        "        \"v\":\"5.124\",\n",
        "        \"post_id\":post['id'],\n",
        "        \"thread_items_count\":10,\n",
        "        \"access_token\": TOKEN\n",
        "    }\n",
        "  ).json()['response']['items']\n",
        "\n",
        "  #Создаем папочку для коментов к конкретному посту\n",
        "  os.makedirs(str(post['id']))\n",
        "\n",
        "  #Сохраняем тексты постов\n",
        "  for comment in comments:\n",
        "    if comment['thread']['count']==0: #Если у комента нет треда (ответов на комент), просто сохраняем текст комента\n",
        "      write_text(str(post['id'])+'/'+str(comment['id'])+'.txt',comment['text'])\n",
        "    else: #А если тред есть, то сначала сохраняем сам комент...\n",
        "      write_text(str(post['id'])+'/'+str(comment['id'])+'.txt',comment['text'])\n",
        "      for item in comment['thread']['items']: #...а затем коменты из треда в виде id-комента_id-комента из треда (максимальная длина треда в ВК апи - 10 коментов)\n",
        "        write_text(str(post['id'])+'/'+str(comment['id'])+'_'+str(item['id'])+'.txt',item['text'])\n",
        "\n",
        "  #Рекурсивно архивируем все файлы в папочке и саму папочку. Пустые папки тоже архивируем на всякий случай\n",
        "  for root, dirs, files in os.walk(str(post['id'])):\n",
        "    if len(files) > 0:\n",
        "        for f in files:\n",
        "            zip_archive.write(os.path.join(root, f))\n",
        "    else:\n",
        "        zip_archive.write(root)\n",
        "\n",
        "#Одну папку, название которой мы знаем, можно заархивировать одной строчкой\n",
        "!zip -r \"result.zip\" \"Системный Блокъ\"\n",
        "\n",
        "#Архив не забываем закрыть\n",
        "zip_archive.close()\n",
        "\n",
        "#Отправляем результаты боту\n",
        "!telegram-send --config channel.conf --file result.zip --caption \"Держи архив\""
      ],
      "execution_count": null,
      "outputs": []
    }
  ]
}
