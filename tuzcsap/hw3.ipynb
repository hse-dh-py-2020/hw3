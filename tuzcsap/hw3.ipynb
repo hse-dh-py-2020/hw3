{
  "nbformat": 4,
  "nbformat_minor": 0,
  "metadata": {
    "colab": {
      "name": "ht3.ipynb",
      "provenance": [],
      "collapsed_sections": [],
      "toc_visible": true
    },
    "kernelspec": {
      "name": "python3",
      "display_name": "Python 3"
    }
  },
  "cells": [
    {
      "cell_type": "markdown",
      "metadata": {
        "id": "7-8rgmgcho8B"
      },
      "source": [
        "## Задача\n",
        "\n",
        "Написать код, который сможет:\n",
        "\n",
        "Получить текст последних 20 постов со стены какого-то сообщества вк\n",
        "\n",
        "у каждого поста есть id, записывайте его куда-нибудь\n",
        "\n",
        "сохранить текст каждого поста в текстовый документ в папке, название которой совпадает с именем сообщества\n",
        "\n",
        "После этого получить текст комментов к каждому посту\n",
        "сохранить текст каждого коммента по пути id_поста/id_коммента.txt\n",
        "\n",
        "Сложить всё это в в архив и отправить вам в телеграме."
      ]
    },
    {
      "cell_type": "markdown",
      "metadata": {
        "id": "5Ez68xNwr3vM"
      },
      "source": [
        "## tg-бот"
      ]
    },
    {
      "cell_type": "code",
      "metadata": {
        "id": "klrqJhjuhU9Y",
        "outputId": "70a61ecb-c68a-4057-ea3b-0d97be134edd",
        "colab": {
          "base_uri": "https://localhost:8080/",
          "height": 72
        }
      },
      "source": [
        "!pip install -q telegram-send"
      ],
      "execution_count": null,
      "outputs": [
        {
          "output_type": "stream",
          "text": [
            "\u001b[K     |████████████████████████████████| 409kB 7.6MB/s \n",
            "\u001b[K     |████████████████████████████████| 2.6MB 18.2MB/s \n",
            "\u001b[K     |████████████████████████████████| 61kB 6.9MB/s \n",
            "\u001b[?25h"
          ],
          "name": "stdout"
        }
      ]
    },
    {
      "cell_type": "code",
      "metadata": {
        "id": "s1-mCxpooH1W",
        "outputId": "19c95695-c091-485c-a1d5-ec8e66d337c7",
        "colab": {
          "base_uri": "https://localhost:8080/",
          "height": 237
        }
      },
      "source": [
        "!python /usr/local/lib/python3.6/dist-packages/telegram_send.py --configure-channel"
      ],
      "execution_count": null,
      "outputs": [
        {
          "output_type": "stream",
          "text": [
            "Talk with the \u001b[36mBotFather\u001b[0m on Telegram (https://telegram.me/BotFather), create a bot and insert the token\n",
            "\u001b[35m❯ \u001b[0m1324984818:AAFobQf11jYEWjqFgSjqKs2047ne5jL2BkI\n",
            "Connected with \u001b[36mmy_colab_progress_notifier_bot\u001b[0m.\n",
            "\n",
            "Do you want to send to a \u001b[1mpublic\u001b[0m or a \u001b[1mprivate\u001b[0m channel? [pub/priv]\n",
            "\u001b[35m❯ \u001b[0mpriv\n",
            "\n",
            "Open https://web.telegram.org in your browser, sign in and open your private channel.\n",
            "Now copy the URL in the address bar and enter it here:\n",
            "\u001b[35m❯ \u001b[0mhttps://web.telegram.org/#/im?p=c1284475359_8938296753326905798\n",
            "\u001b[32m\n",
            "Congratulations! telegram-send can now post to your channel!\u001b[0m\n",
            "\u001b[0m"
          ],
          "name": "stdout"
        }
      ]
    },
    {
      "cell_type": "markdown",
      "metadata": {
        "id": "eYkzk3kx9t2N"
      },
      "source": [
        "Talk with the BotFather on Telegram (https://telegram.me/BotFather), create a bot and insert the token\n",
        "\n",
        "❯ 1324984818:AAFobQf11jYEWjqFgSjqKs2047ne5jL2BkI\n",
        "\n",
        "Connected with my_colab_progress_notifier_bot.\n",
        "\n",
        "Do you want to send to a public or a private channel? \n",
        "\n",
        "[pub/priv]\n",
        "\n",
        "❯ priv\n",
        "\n",
        "Open https://web.telegram.org in your browser, sign in and open your private channel.\n",
        "Now copy the URL in the address bar and enter it here:\n",
        "\n",
        "❯ https://web.telegram.org/#/im?p=c1284475359_8938296753326905798\n",
        "\n",
        "Congratulations! telegram-send can now post to your channel!"
      ]
    },
    {
      "cell_type": "code",
      "metadata": {
        "id": "qlBcIyVso91q",
        "outputId": "511f3ba4-3404-4995-d980-e6dc116e7dad",
        "colab": {
          "base_uri": "https://localhost:8080/",
          "height": 17
        }
      },
      "source": [
        "!python /usr/local/lib/python3.6/dist-packages/telegram_send.py 'Привет!'"
      ],
      "execution_count": null,
      "outputs": [
        {
          "output_type": "stream",
          "text": [
            "\u001b[0m"
          ],
          "name": "stdout"
        }
      ]
    },
    {
      "cell_type": "markdown",
      "metadata": {
        "id": "63iz23Bpr81N"
      },
      "source": [
        "## Запросы к vk api\n",
        "\n",
        "### Пусть будет группа https://vk.com/bowie_salad\n",
        "#### Нет, там в основном картинки без текста, но группа замечательная\n",
        "\n",
        "### Тогда будет родной звук: https://vk.com/rodzvuk"
      ]
    },
    {
      "cell_type": "code",
      "metadata": {
        "id": "jgPqXrF0jIzB"
      },
      "source": [
        "import requests"
      ],
      "execution_count": null,
      "outputs": []
    },
    {
      "cell_type": "code",
      "metadata": {
        "id": "rYHodiT08J4c"
      },
      "source": [
        "import os"
      ],
      "execution_count": null,
      "outputs": []
    },
    {
      "cell_type": "code",
      "metadata": {
        "id": "Wy0lIF5frpl4"
      },
      "source": [
        "VK_API_TOKEN = \"\" # сюда нужно вставить токен авторизованного приложения"
      ],
      "execution_count": null,
      "outputs": []
    },
    {
      "cell_type": "markdown",
      "metadata": {
        "id": "QcnNm2q3h8rZ"
      },
      "source": [
        "### найдем id по названию группы"
      ]
    },
    {
      "cell_type": "code",
      "metadata": {
        "id": "X_CNQfQRtHI_"
      },
      "source": [
        "resolved_id_by_name = requests.get(\n",
        "    'https://api.vk.com/method/utils.resolveScreenName',\n",
        "     params={\n",
        "        'screen_name': 'rodzvuk',\n",
        "        'v': '5.92',\n",
        "        'access_token': VK_API_TOKEN\n",
        "     }).json()[\"response\"][\"object_id\"]"
      ],
      "execution_count": null,
      "outputs": []
    },
    {
      "cell_type": "code",
      "metadata": {
        "id": "LnVBWiAmvoO2",
        "outputId": "60059489-d394-44b3-f80e-3d550af41b8b",
        "colab": {
          "base_uri": "https://localhost:8080/",
          "height": 35
        }
      },
      "source": [
        "resolved_id_by_name"
      ],
      "execution_count": null,
      "outputs": [
        {
          "output_type": "execute_result",
          "data": {
            "text/plain": [
              "83415396"
            ]
          },
          "metadata": {
            "tags": []
          },
          "execution_count": 9
        }
      ]
    },
    {
      "cell_type": "markdown",
      "metadata": {
        "id": "rnWYUZWGh0-g"
      },
      "source": [
        "### метод wall.get для получения 20 постов из группы"
      ]
    },
    {
      "cell_type": "code",
      "metadata": {
        "id": "ojosege5vqlA"
      },
      "source": [
        "posts = requests.get('https://api.vk.com/method/wall.get',\n",
        "                    params={\n",
        "                        \"owner_id\": -resolved_id_by_name,\n",
        "                        \"v\":\"5.94\",\n",
        "                        \"access_token\": VK_API_TOKEN,\n",
        "                        \"count\": 20\n",
        "                    }).json()['response']['items']"
      ],
      "execution_count": null,
      "outputs": []
    },
    {
      "cell_type": "markdown",
      "metadata": {
        "id": "iWosVjZGQCxN"
      },
      "source": [
        "### Получим тексты постов и сохраним их в папке rodzvuk"
      ]
    },
    {
      "cell_type": "code",
      "metadata": {
        "id": "hDw9dSH7Qa_U"
      },
      "source": [
        "!mkdir rodzvuk"
      ],
      "execution_count": null,
      "outputs": []
    },
    {
      "cell_type": "code",
      "metadata": {
        "id": "fOJ5-GopQevh",
        "outputId": "fbca8d31-6be6-4d47-e703-c95bbd2f6def",
        "colab": {
          "base_uri": "https://localhost:8080/",
          "height": 35
        }
      },
      "source": [
        "!ls"
      ],
      "execution_count": null,
      "outputs": [
        {
          "output_type": "stream",
          "text": [
            "sample_data\n"
          ],
          "name": "stdout"
        }
      ]
    },
    {
      "cell_type": "code",
      "metadata": {
        "id": "asfXW3tVPW3w"
      },
      "source": [
        "for post in posts:\n",
        "  with open(f\"rodzvuk/{post['id']}.txt\", \"w\") as f:\n",
        "    f.write(post[\"text\"])\n",
        "  os.mkdir(f\"rodzvuk/{post['id']}\")\n",
        "  # получаем комменты по id поста:\n",
        "  comments = requests.get('https://api.vk.com/method/wall.getComments',\n",
        "                      params={\n",
        "                          \"owner_id\": -resolved_id_by_name,\n",
        "                          \"v\":\"5.94\",\n",
        "                          \"post_id\": post['id'],\n",
        "                          'access_token': VK_API_TOKEN\n",
        "                      }).json()[\"response\"][\"items\"]\n",
        "  \n",
        "  for comment in comments:\n",
        "    with open(f\"rodzvuk/{post['id']}/{comment['id']}.txt\", \"w\") as f:\n",
        "      f.write(comment[\"text\"])"
      ],
      "execution_count": null,
      "outputs": []
    },
    {
      "cell_type": "markdown",
      "metadata": {
        "id": "zt2aYDl36Lz8"
      },
      "source": [
        "##### загрузили тексты 20 постов"
      ]
    },
    {
      "cell_type": "code",
      "metadata": {
        "id": "G_RujGyTRd5e",
        "outputId": "897c88ac-83ee-4eac-d64d-88773b06f0a5",
        "colab": {
          "base_uri": "https://localhost:8080/",
          "height": 146
        }
      },
      "source": [
        "!ls rodzvuk"
      ],
      "execution_count": null,
      "outputs": [
        {
          "output_type": "stream",
          "text": [
            "280443\t    280526.txt\t280605\t    280667.txt\t280761\t    280793.txt\n",
            "280443.txt  280542\t280605.txt  280719\t280761.txt  280799\n",
            "280460\t    280542.txt\t280622\t    280719.txt\t280784\t    280799.txt\n",
            "280460.txt  280571\t280622.txt  280737\t280784.txt  280807\n",
            "280475\t    280571.txt\t280640\t    280737.txt\t280789\t    280807.txt\n",
            "280475.txt  280586\t280640.txt  280752\t280789.txt\n",
            "280526\t    280586.txt\t280667\t    280752.txt\t280793\n"
          ],
          "name": "stdout"
        }
      ]
    },
    {
      "cell_type": "markdown",
      "metadata": {
        "id": "le1h10yC8vlb"
      },
      "source": [
        "#### Добавили файлы с комментами"
      ]
    },
    {
      "cell_type": "code",
      "metadata": {
        "id": "WQubIskK8pWH",
        "outputId": "e29ba189-2507-43ae-c2bc-52e29962a983",
        "colab": {
          "base_uri": "https://localhost:8080/",
          "height": 35
        }
      },
      "source": [
        "!ls rodzvuk/280443"
      ],
      "execution_count": null,
      "outputs": [
        {
          "output_type": "stream",
          "text": [
            "280450.txt  280457.txt\t280464.txt  280474.txt\t280518.txt  280711.txt\n"
          ],
          "name": "stdout"
        }
      ]
    },
    {
      "cell_type": "markdown",
      "metadata": {
        "id": "WvXjhS0Q9t9a"
      },
      "source": [
        "##### Рекурсивно заархивируем папку rodzvuk"
      ]
    },
    {
      "cell_type": "code",
      "metadata": {
        "id": "Ex0UAS-SUylK",
        "outputId": "bbc73aa3-6ef9-42a2-8335-9cb6d84b3b9c",
        "colab": {
          "base_uri": "https://localhost:8080/",
          "height": 1000
        }
      },
      "source": [
        "!zip -r rodzvuk.zip rodzvuk "
      ],
      "execution_count": null,
      "outputs": [
        {
          "output_type": "stream",
          "text": [
            "  adding: rodzvuk/ (stored 0%)\n",
            "  adding: rodzvuk/280799/ (stored 0%)\n",
            "  adding: rodzvuk/280799/280817.txt (deflated 27%)\n",
            "  adding: rodzvuk/280799/280803.txt (stored 0%)\n",
            "  adding: rodzvuk/280799/280800.txt (stored 0%)\n",
            "  adding: rodzvuk/280799/280805.txt (stored 0%)\n",
            "  adding: rodzvuk/280799/280804.txt (stored 0%)\n",
            "  adding: rodzvuk/280799/280814.txt (stored 0%)\n",
            "  adding: rodzvuk/280799/280801.txt (stored 0%)\n",
            "  adding: rodzvuk/280799/280802.txt (stored 0%)\n",
            "  adding: rodzvuk/280799/280806.txt (stored 0%)\n",
            "  adding: rodzvuk/280799/280816.txt (deflated 12%)\n",
            "  adding: rodzvuk/280667/ (stored 0%)\n",
            "  adding: rodzvuk/280667/280677.txt (stored 0%)\n",
            "  adding: rodzvuk/280667/280670.txt (stored 0%)\n",
            "  adding: rodzvuk/280667/280679.txt (deflated 17%)\n",
            "  adding: rodzvuk/280667/280693.txt (deflated 20%)\n",
            "  adding: rodzvuk/280667/280708.txt (deflated 15%)\n",
            "  adding: rodzvuk/280526/ (stored 0%)\n",
            "  adding: rodzvuk/280526/280709.txt (stored 0%)\n",
            "  adding: rodzvuk/280526/280527.txt (stored 0%)\n",
            "  adding: rodzvuk/280526/280705.txt (deflated 27%)\n",
            "  adding: rodzvuk/280526/280541.txt (stored 0%)\n",
            "  adding: rodzvuk/280526/280743.txt (deflated 30%)\n",
            "  adding: rodzvuk/280526/280587.txt (stored 0%)\n",
            "  adding: rodzvuk/280526/280832.txt (deflated 9%)\n",
            "  adding: rodzvuk/280526/280544.txt (deflated 9%)\n",
            "  adding: rodzvuk/280737.txt (deflated 16%)\n",
            "  adding: rodzvuk/280586/ (stored 0%)\n",
            "  adding: rodzvuk/280586/280591.txt (stored 0%)\n",
            "  adding: rodzvuk/280586/280590.txt (stored 0%)\n",
            "  adding: rodzvuk/280586/280686.txt (stored 0%)\n",
            "  adding: rodzvuk/280586/280652.txt (stored 0%)\n",
            "  adding: rodzvuk/280460.txt (stored 0%)\n",
            "  adding: rodzvuk/280761.txt (deflated 23%)\n",
            "  adding: rodzvuk/280622/ (stored 0%)\n",
            "  adding: rodzvuk/280443.txt (deflated 31%)\n",
            "  adding: rodzvuk/280752/ (stored 0%)\n",
            "  adding: rodzvuk/280793/ (stored 0%)\n",
            "  adding: rodzvuk/280793/280796.txt (deflated 10%)\n",
            "  adding: rodzvuk/280793/280794.txt (stored 0%)\n",
            "  adding: rodzvuk/280793/280845.txt (stored 0%)\n",
            "  adding: rodzvuk/280605.txt (deflated 26%)\n",
            "  adding: rodzvuk/280443/ (stored 0%)\n",
            "  adding: rodzvuk/280443/280474.txt (stored 0%)\n",
            "  adding: rodzvuk/280443/280457.txt (deflated 11%)\n",
            "  adding: rodzvuk/280443/280450.txt (stored 0%)\n",
            "  adding: rodzvuk/280443/280518.txt (stored 0%)\n",
            "  adding: rodzvuk/280443/280464.txt (stored 0%)\n",
            "  adding: rodzvuk/280443/280711.txt (deflated 14%)\n",
            "  adding: rodzvuk/280784/ (stored 0%)\n",
            "  adding: rodzvuk/280784/280788.txt (stored 0%)\n",
            "  adding: rodzvuk/280793.txt (stored 0%)\n",
            "  adding: rodzvuk/280622.txt (deflated 33%)\n",
            "  adding: rodzvuk/280460/ (stored 0%)\n",
            "  adding: rodzvuk/280460/280468.txt (deflated 27%)\n",
            "  adding: rodzvuk/280460/280470.txt (deflated 31%)\n",
            "  adding: rodzvuk/280460/280505.txt (stored 0%)\n",
            "  adding: rodzvuk/280460/280462.txt (stored 0%)\n",
            "  adding: rodzvuk/280460/280517.txt (stored 0%)\n",
            "  adding: rodzvuk/280475.txt (stored 0%)\n",
            "  adding: rodzvuk/280640/ (stored 0%)\n",
            "  adding: rodzvuk/280640/280707.txt (stored 0%)\n",
            "  adding: rodzvuk/280640/280643.txt (stored 0%)\n",
            "  adding: rodzvuk/280640/280642.txt (deflated 50%)\n",
            "  adding: rodzvuk/280737/ (stored 0%)\n",
            "  adding: rodzvuk/280737/280746.txt (deflated 12%)\n",
            "  adding: rodzvuk/280737/280742.txt (deflated 10%)\n",
            "  adding: rodzvuk/280737/280740.txt (deflated 8%)\n",
            "  adding: rodzvuk/280784.txt (deflated 45%)\n",
            "  adding: rodzvuk/280605/ (stored 0%)\n",
            "  adding: rodzvuk/280605/280611.txt (stored 0%)\n",
            "  adding: rodzvuk/280605/280613.txt (stored 0%)\n",
            "  adding: rodzvuk/280605/280620.txt (stored 0%)\n",
            "  adding: rodzvuk/280605/280619.txt (deflated 5%)\n",
            "  adding: rodzvuk/280605/280609.txt (stored 0%)\n",
            "  adding: rodzvuk/280605/280614.txt (stored 0%)\n",
            "  adding: rodzvuk/280605/280610.txt (stored 0%)\n",
            "  adding: rodzvuk/280605/280607.txt (stored 0%)\n",
            "  adding: rodzvuk/280605/280618.txt (stored 0%)\n",
            "  adding: rodzvuk/280605/280606.txt (stored 0%)\n",
            "  adding: rodzvuk/280667.txt (deflated 21%)\n",
            "  adding: rodzvuk/280571.txt (deflated 21%)\n",
            "  adding: rodzvuk/280719/ (stored 0%)\n",
            "  adding: rodzvuk/280719/280733.txt (stored 0%)\n",
            "  adding: rodzvuk/280719/280764.txt (deflated 6%)\n",
            "  adding: rodzvuk/280789/ (stored 0%)\n",
            "  adding: rodzvuk/280789/280790.txt (stored 0%)\n",
            "  adding: rodzvuk/280789/280835.txt (deflated 9%)\n",
            "  adding: rodzvuk/280542.txt (stored 0%)\n",
            "  adding: rodzvuk/280789.txt (deflated 44%)\n",
            "  adding: rodzvuk/280475/ (stored 0%)\n",
            "  adding: rodzvuk/280475/280476.txt (stored 0%)\n",
            "  adding: rodzvuk/280475/280490.txt (deflated 18%)\n",
            "  adding: rodzvuk/280475/280479.txt (stored 0%)\n",
            "  adding: rodzvuk/280475/280496.txt (deflated 2%)\n",
            "  adding: rodzvuk/280475/280480.txt (deflated 30%)\n",
            "  adding: rodzvuk/280475/280478.txt (stored 0%)\n",
            "  adding: rodzvuk/280475/280491.txt (deflated 3%)\n",
            "  adding: rodzvuk/280475/280485.txt (deflated 25%)\n",
            "  adding: rodzvuk/280475/280482.txt (stored 0%)\n",
            "  adding: rodzvuk/280475/280477.txt (stored 0%)\n",
            "  adding: rodzvuk/280799.txt (stored 0%)\n",
            "  adding: rodzvuk/280526.txt (stored 0%)\n",
            "  adding: rodzvuk/280719.txt (deflated 24%)\n",
            "  adding: rodzvuk/280807/ (stored 0%)\n",
            "  adding: rodzvuk/280807/280811.txt (stored 0%)\n",
            "  adding: rodzvuk/280807/280822.txt (deflated 21%)\n",
            "  adding: rodzvuk/280807/280823.txt (stored 0%)\n",
            "  adding: rodzvuk/280807/280812.txt (deflated 25%)\n",
            "  adding: rodzvuk/280807/280834.txt (stored 0%)\n",
            "  adding: rodzvuk/280807/280813.txt (deflated 7%)\n",
            "  adding: rodzvuk/280586.txt (deflated 27%)\n",
            "  adding: rodzvuk/280640.txt (deflated 39%)\n",
            "  adding: rodzvuk/280761/ (stored 0%)\n",
            "  adding: rodzvuk/280761/280763.txt (deflated 15%)\n",
            "  adding: rodzvuk/280761/280776.txt (deflated 23%)\n",
            "  adding: rodzvuk/280761/280842.txt (stored 0%)\n",
            "  adding: rodzvuk/280761/280769.txt (stored 0%)\n",
            "  adding: rodzvuk/280761/280843.txt (deflated 27%)\n",
            "  adding: rodzvuk/280761/280762.txt (deflated 23%)\n",
            "  adding: rodzvuk/280761/280766.txt (deflated 23%)\n",
            "  adding: rodzvuk/280807.txt (deflated 25%)\n",
            "  adding: rodzvuk/280752.txt (deflated 51%)\n",
            "  adding: rodzvuk/280542/ (stored 0%)\n",
            "  adding: rodzvuk/280542/280552.txt (stored 0%)\n",
            "  adding: rodzvuk/280542/280550.txt (deflated 37%)\n",
            "  adding: rodzvuk/280542/280559.txt (stored 0%)\n",
            "  adding: rodzvuk/280542/280560.txt (stored 0%)\n",
            "  adding: rodzvuk/280542/280554.txt (stored 0%)\n",
            "  adding: rodzvuk/280542/280549.txt (deflated 50%)\n",
            "  adding: rodzvuk/280542/280556.txt (stored 0%)\n",
            "  adding: rodzvuk/280542/280548.txt (deflated 7%)\n",
            "  adding: rodzvuk/280542/280551.txt (deflated 2%)\n",
            "  adding: rodzvuk/280542/280547.txt (stored 0%)\n",
            "  adding: rodzvuk/280571/ (stored 0%)\n",
            "  adding: rodzvuk/280571/280577.txt (deflated 19%)\n",
            "  adding: rodzvuk/280571/280837.txt (deflated 4%)\n",
            "  adding: rodzvuk/280571/280578.txt (deflated 28%)\n",
            "  adding: rodzvuk/280571/280579.txt (stored 0%)\n",
            "  adding: rodzvuk/280571/280576.txt (deflated 11%)\n",
            "  adding: rodzvuk/280571/280588.txt (deflated 13%)\n",
            "  adding: rodzvuk/280571/280749.txt (deflated 15%)\n",
            "  adding: rodzvuk/280571/280767.txt (deflated 17%)\n",
            "  adding: rodzvuk/280571/280572.txt (deflated 17%)\n"
          ],
          "name": "stdout"
        }
      ]
    },
    {
      "cell_type": "markdown",
      "metadata": {
        "id": "eXH9egxS919P"
      },
      "source": [
        "##### Отправим результат через tg-bot"
      ]
    },
    {
      "cell_type": "code",
      "metadata": {
        "id": "6CI-gqTZ9KPI",
        "outputId": "71c47cf3-4063-44f7-925f-080eca676f8c",
        "colab": {
          "base_uri": "https://localhost:8080/",
          "height": 17
        }
      },
      "source": [
        "!python /usr/local/lib/python3.6/dist-packages/telegram_send.py --file rodzvuk.zip --caption \"Архив с постами\""
      ],
      "execution_count": null,
      "outputs": [
        {
          "output_type": "stream",
          "text": [
            "\u001b[0m"
          ],
          "name": "stdout"
        }
      ]
    }
  ]
}